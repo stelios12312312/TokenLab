{
 "cells": [
  {
   "cell_type": "code",
   "execution_count": 2,
   "id": "26d940f6",
   "metadata": {},
   "outputs": [
    {
     "data": {
      "application/mercury+json": "{\n    \"widget\": \"App\",\n    \"title\": \"Basic token ecomomy simulation\",\n    \"description\": \"Let us show you what TokenLab can do!\",\n    \"show_code\": false,\n    \"show_prompt\": false,\n    \"share\": \"public\",\n    \"output\": \"app\",\n    \"schedule\": \"\",\n    \"notify\": \"{}\",\n    \"continuous_update\": true,\n    \"static_notebook\": false,\n    \"show_sidebar\": true,\n    \"full_screen\": true,\n    \"allow_download\": true,\n    \"model_id\": \"mercury-app\",\n    \"code_uid\": \"App.0.40.25.24-rand7d6bd527\"\n}",
      "text/html": [
       "<h3>Mercury Application</h3><small>This output won't appear in the web app.</small>"
      ],
      "text/plain": [
       "mercury.App"
      ]
     },
     "metadata": {},
     "output_type": "display_data"
    }
   ],
   "source": [
    "import numpy as np\n",
    "import scipy\n",
    "import sys\n",
    "import os\n",
    "\n",
    "import pandas as pd\n",
    "\n",
    "tokenlab_path=os.path.abspath(\"\").replace('projects','src')\n",
    "sys.path.insert(0,tokenlab_path)\n",
    "\n",
    "\n",
    "from TokenLab.simulationcomponents import *\n",
    "from TokenLab.simulationcomponents.usergrowthclasses import *\n",
    "from TokenLab.simulationcomponents.transactionclasses import *\n",
    "from TokenLab.simulationcomponents.tokeneconomyclasses import *\n",
    "from TokenLab.simulationcomponents.transactionclasses import *\n",
    "from TokenLab.simulationcomponents.agentpoolclasses import *\n",
    "from TokenLab.simulationcomponents.pricingclasses import *\n",
    "from TokenLab.simulationcomponents.addons import AddOn_RandomNoise, AddOn_RandomNoiseProportional\n",
    "from TokenLab.utils.helpers import *\n",
    "from matplotlib import pyplot as plt\n",
    "\n",
    "import mercury as mr\n",
    "app = mr.App(title=\"Basic token ecomomy simulation\", description=\"Let us show you what TokenLab can do!\") \n",
    "\n"
   ]
  },
  {
   "cell_type": "code",
   "execution_count": 3,
   "id": "16f58653",
   "metadata": {},
   "outputs": [],
   "source": [
    "ITERATIONS=12*5\n",
    "HOLDING_TIME=0.1\n",
    "SUPPLY=10**9\n",
    "INITIAL_PRICE=0.01"
   ]
  },
  {
   "cell_type": "code",
   "execution_count": 13,
   "id": "6f989ff2",
   "metadata": {},
   "outputs": [
    {
     "data": {
      "application/mercury+json": "{\n    \"widget\": \"Slider\",\n    \"value\": 1,\n    \"min\": 1,\n    \"max\": 100,\n    \"step\": 0,\n    \"label\": \"Noise\",\n    \"model_id\": \"a904ac1c49dc4ec1b6c44d5441f2e47f\",\n    \"code_uid\": \"Slider.0.40.16.1-rand07f70307\"\n}",
      "application/vnd.jupyter.widget-view+json": {
       "model_id": "a904ac1c49dc4ec1b6c44d5441f2e47f",
       "version_major": 2,
       "version_minor": 0
      },
      "text/plain": [
       "mercury.Slider"
      ]
     },
     "metadata": {},
     "output_type": "display_data"
    },
    {
     "data": {
      "application/mercury+json": "{\n    \"widget\": \"Slider\",\n    \"value\": 1,\n    \"min\": 1,\n    \"max\": 365,\n    \"step\": 0,\n    \"label\": \"Holding time (days), min=0.01\",\n    \"model_id\": \"7198d3bd9b7845b69a49792671ced9cb\",\n    \"code_uid\": \"Slider.0.40.16.4-rand9a377d9b\"\n}",
      "application/vnd.jupyter.widget-view+json": {
       "model_id": "7198d3bd9b7845b69a49792671ced9cb",
       "version_major": 2,
       "version_minor": 0
      },
      "text/plain": [
       "mercury.Slider"
      ]
     },
     "metadata": {},
     "output_type": "display_data"
    },
    {
     "data": {
      "application/mercury+json": "{\n    \"widget\": \"Slider\",\n    \"value\": 500000,\n    \"min\": 100000,\n    \"max\": 5000000,\n    \"step\": 10000,\n    \"label\": \"Active Monthly Users (at year 5)\",\n    \"model_id\": \"cccf90ded8534d90be0015c0f9c767ef\",\n    \"code_uid\": \"Slider.0.40.16.7-randf58dee78\"\n}",
      "application/vnd.jupyter.widget-view+json": {
       "model_id": "cccf90ded8534d90be0015c0f9c767ef",
       "version_major": 2,
       "version_minor": 0
      },
      "text/plain": [
       "mercury.Slider"
      ]
     },
     "metadata": {},
     "output_type": "display_data"
    },
    {
     "data": {
      "application/mercury+json": "{\n    \"widget\": \"Slider\",\n    \"value\": 100,\n    \"min\": 10,\n    \"max\": 10000,\n    \"step\": 10,\n    \"label\": \"Supply (in millions)\",\n    \"model_id\": \"dd4065d9abce4b43aa03cd70ff1785cf\",\n    \"code_uid\": \"Slider.0.40.16.10-rand60932623\"\n}",
      "application/vnd.jupyter.widget-view+json": {
       "model_id": "dd4065d9abce4b43aa03cd70ff1785cf",
       "version_major": 2,
       "version_minor": 0
      },
      "text/plain": [
       "mercury.Slider"
      ]
     },
     "metadata": {},
     "output_type": "display_data"
    },
    {
     "data": {
      "application/mercury+json": "{\n    \"widget\": \"Slider\",\n    \"value\": 1,\n    \"min\": 1,\n    \"max\": 10000,\n    \"step\": 1,\n    \"label\": \"Transaction fee average (div by 100)\",\n    \"model_id\": \"3b3ffe9b1cde4b459a54b9e4d45e3d2c\",\n    \"code_uid\": \"Slider.0.40.16.13-randef50463f\"\n}",
      "application/vnd.jupyter.widget-view+json": {
       "model_id": "3b3ffe9b1cde4b459a54b9e4d45e3d2c",
       "version_major": 2,
       "version_minor": 0
      },
      "text/plain": [
       "mercury.Slider"
      ]
     },
     "metadata": {},
     "output_type": "display_data"
    }
   ],
   "source": [
    "noise_param_value = mr.Slider(label=\"Noise\", value=1, min=1, \n",
    "                              max=100,step=0.05)\n",
    "\n",
    "holding_time_constant_value=mr.Slider(label=\"Holding time (days), min=0.01\", value=1, min=1, \n",
    "                              max=365,step=0.05)\n",
    "\n",
    "max_users_slider=mr.Slider(label=\"Active Monthly Users (at year 5)\", value=500000, min=100000, \n",
    "                              max=5000000,step=10000)\n",
    "\n",
    "supply_slider=mr.Slider(label=\"Supply (in millions)\", value=100, min=10, \n",
    "                              max=10000,step=10)\n",
    "\n",
    "transaction_fee_slider=mr.Slider(label=\"Transaction fee average (div by 100)\", value=1, min=1, \n",
    "                              max=10000,step=1)\n",
    "\n",
    "growth = mr.Select(label=\"Growth type\", value=\"linear\", choices=[\"linear\", \"logistic\"])\n"
   ]
  },
  {
   "cell_type": "code",
   "execution_count": 5,
   "id": "248878fc",
   "metadata": {},
   "outputs": [],
   "source": [
    "SUPPLY=supply_slider.value*(10**6)"
   ]
  },
  {
   "cell_type": "code",
   "execution_count": null,
   "id": "d1bdf2c0",
   "metadata": {},
   "outputs": [],
   "source": [
    "\n",
    "mr.Markdown(\"\"\"## Token Economy Simulation 🚀\n",
    "\n",
    "This notebook simulates a simply token economy that is based only on transaction fees.\n",
    "\n",
    "Parameter details:\n",
    "\n",
    "1) Holding time: The holding time is sampled from a half-normal with loc=scale.\n",
    "\n",
    "2) The transaction fee slider determines the expected value of the average transaction. \n",
    "These are sampled from a half-normal distribution with location=scale.\n",
    "\n",
    "3) The average number of transactions per user is sampled from a half-normal, with loc=0 and scale=0.5\n",
    "\n",
    "4) The starting number of users is 100k.\n",
    "\n",
    "5) Pricing equation uses the equation of exchange, with an anchoring effect which pushes the price \n",
    "down towards its older values. This is a more realistic assumption, as opposed to the real equation-of-exchange.\n",
    "\n",
    "\"\"\")"
   ]
  },
  {
   "cell_type": "code",
   "execution_count": 6,
   "id": "2a36e952",
   "metadata": {},
   "outputs": [],
   "source": [
    "random_noise=AddOn_RandomNoiseProportional(std_param=noise_param_value.value*0.1)\n",
    "\n",
    "lr=lambda start,stop,num : logistic_saturated_space(start=start,stop=stop,num=num,steepness=4,takeoff=3)\n",
    "\n",
    "if growth.value=='logistic':\n",
    "    users=UserGrowth_Spaced(initial_users=100000,max_users=max_users_slider.value,num_steps=60,\n",
    "                            space_function=lr,\n",
    "                            noise_addon=random_noise\n",
    "                           )\n",
    "else:\n",
    "    users=UserGrowth_Spaced(initial_users=100000,max_users=max_users_slider.value,num_steps=60,\n",
    "                        noise_addon=random_noise\n",
    "                       )\n"
   ]
  },
  {
   "cell_type": "code",
   "execution_count": 7,
   "id": "d997f6a6",
   "metadata": {},
   "outputs": [],
   "source": [
    "trans=transaction_fee_slider.value/10"
   ]
  },
  {
   "cell_type": "code",
   "execution_count": 8,
   "id": "bbc30084",
   "metadata": {},
   "outputs": [],
   "source": [
    "transactions=TransactionManagement_Stochastic(value_distribution=scipy.stats.norm,\n",
    "                                             value_dist_parameters={'loc':trans,'scale':trans},\n",
    "                                              transactions_distribution=scipy.stats.halfnorm,\n",
    "                                              transactions_dist_parameters={'loc':0,'scale':0.2},\n",
    "                                              #transactions_constant=1,\n",
    "                                              activity_probs=1,\n",
    "                                             type_transaction='positive')\n",
    "\n"
   ]
  },
  {
   "cell_type": "code",
   "execution_count": 9,
   "id": "336d21a8",
   "metadata": {},
   "outputs": [],
   "source": [
    "#plt.hist(scipy.stats.halfnorm.rvs(loc=1,scale=1,size=1000))"
   ]
  },
  {
   "cell_type": "code",
   "execution_count": 10,
   "id": "a74ba9f6",
   "metadata": {},
   "outputs": [],
   "source": [
    "#plt.plot(users.get_users_store())"
   ]
  },
  {
   "cell_type": "code",
   "execution_count": 11,
   "id": "1c8f676e",
   "metadata": {},
   "outputs": [],
   "source": [
    "#holding_time=HoldingTime_Constant(holding_time_constant_value.value)\n",
    "holding_time=HoldingTime_Stochastic(holding_time_params={'loc':holding_time_constant_value.value/30,\n",
    "                                                         'scale':holding_time_constant_value.value/30})"
   ]
  },
  {
   "cell_type": "code",
   "execution_count": 12,
   "id": "d79c4956",
   "metadata": {},
   "outputs": [
    {
     "name": "stderr",
     "output_type": "stream",
     "text": [
      "100%|█████████████████████████████████████████| 100/100 [00:05<00:00, 19.13it/s]\n"
     ]
    },
    {
     "data": {
      "image/png": "[encoded data removed]",
      "text/plain": [
       "<Figure size 640x480 with 1 Axes>"
      ]
     },
     "metadata": {},
     "output_type": "display_data"
    },
    {
     "data": {
      "text/plain": [
       "(<matplotlib.collections.PolyCollection at 0x7f9d8171dd60>,\n",
       "                 tokenA_price_mean  tokenA_price_median            sd  \\\n",
       " iteration_time                                                         \n",
       " 0                        0.009000             0.009000  3.999706e-08   \n",
       " 1                        0.008101             0.008100  4.539083e-06   \n",
       " 2                        0.007293             0.007290  6.581710e-06   \n",
       " 3                        0.006595             0.006564  1.628573e-04   \n",
       " 4                        0.006078             0.005917  6.380224e-04   \n",
       " 5                        0.005885             0.005365  1.633722e-03   \n",
       " 6                        0.009665             0.005274  2.312013e-02   \n",
       " 7                        0.046296             0.007287  1.779193e-01   \n",
       " 8                        0.121859             0.014438  2.808882e-01   \n",
       " 9                        0.315932             0.047596  7.328513e-01   \n",
       " 10                       3.069582             0.223960  1.162021e+01   \n",
       " 11                      12.806538             1.184992  3.185818e+01   \n",
       " 12                      55.599735             4.194414  1.884129e+02   \n",
       " 13                     151.740523            22.168797  3.896081e+02   \n",
       " 14                     322.329981            76.339651  6.267367e+02   \n",
       " 15                     515.842384           133.449320  8.549337e+02   \n",
       " 16                     733.585936           308.858746  9.258003e+02   \n",
       " 17                     857.402509           414.404474  9.916488e+02   \n",
       " 18                    1443.780584           514.848686  3.365937e+03   \n",
       " 19                    2101.721985           768.733370  5.637180e+03   \n",
       " 20                    2313.714256          1092.221003  5.196070e+03   \n",
       " 21                    2444.405683          1208.972602  4.872671e+03   \n",
       " 22                    2516.253287          1200.953623  4.610147e+03   \n",
       " 23                    3313.489647          1482.382765  5.829172e+03   \n",
       " 24                    3237.181160          1430.641623  5.303744e+03   \n",
       " 25                    3232.132788          1542.721211  4.843775e+03   \n",
       " 26                    3333.500758          1741.785679  4.767213e+03   \n",
       " 27                    3441.497039          1916.565620  4.561994e+03   \n",
       " 28                    3565.847415          2291.769834  4.662716e+03   \n",
       " 29                    3604.300870          2323.040314  4.256861e+03   \n",
       " 30                    3719.495365          2230.173640  4.011450e+03   \n",
       " 31                    4464.873234          2396.305285  6.105057e+03   \n",
       " 32                    4333.846419          2283.974526  5.610779e+03   \n",
       " 33                    4072.691258          2315.930596  5.123990e+03   \n",
       " 34                    3979.124468          2233.453626  4.712256e+03   \n",
       " 35                    4224.684137          2686.983784  4.614066e+03   \n",
       " 36                    4164.021437          2900.782519  4.221534e+03   \n",
       " 37                    4025.877523          2831.092443  3.775137e+03   \n",
       " 38                    4113.014809          2767.824187  3.996745e+03   \n",
       " 39                    3893.617585          2591.319973  3.787350e+03   \n",
       " 40                    3790.475379          2823.690062  3.667274e+03   \n",
       " 41                    4005.033144          2818.569556  5.384355e+03   \n",
       " 42                    4235.988133          2821.718840  5.266714e+03   \n",
       " 43                    4298.176087          2889.148401  5.012159e+03   \n",
       " 44                    4378.710768          2904.288633  4.767069e+03   \n",
       " 45                    4411.895775          3135.350527  4.395829e+03   \n",
       " 46                    4415.578167          2933.637400  4.281987e+03   \n",
       " 47                    4165.290221          2960.091461  3.824362e+03   \n",
       " 48                    4381.075117          3224.832948  3.929156e+03   \n",
       " 49                    4491.604330          3235.976544  3.833077e+03   \n",
       " 50                    4228.667599          3071.459633  3.470374e+03   \n",
       " 51                    4152.530812          2873.981263  3.370621e+03   \n",
       " 52                    4144.110270          3020.241427  3.390253e+03   \n",
       " 53                    4006.399280          3195.826809  3.024301e+03   \n",
       " 54                    4035.459295          3448.346591  2.965610e+03   \n",
       " 55                    3798.327263          3359.995186  2.697064e+03   \n",
       " 56                    3952.632559          3207.642822  3.292611e+03   \n",
       " 57                    3985.971191          3291.457817  3.134900e+03   \n",
       " 58                    4040.358670          3036.918956  3.459022e+03   \n",
       " 59                    3919.026319          2955.530511  3.412827e+03   \n",
       " \n",
       "                   quant_10%     quant_90%  month  \n",
       " iteration_time                                    \n",
       " 0                  0.009000      0.009000      0  \n",
       " 1                  0.008100      0.008102      1  \n",
       " 2                  0.007290      0.007300      2  \n",
       " 3                  0.006561      0.006588      3  \n",
       " 4                  0.005906      0.006267      4  \n",
       " 5                  0.005320      0.006784      5  \n",
       " 6                  0.004809      0.012444      6  \n",
       " 7                  0.004454      0.059996      7  \n",
       " 8                  0.004575      0.316326      8  \n",
       " 9                  0.007861      0.945200      9  \n",
       " 10                 0.015245      3.085928     10  \n",
       " 11                 0.071978     43.291006     11  \n",
       " 12                 0.475026     67.791439     12  \n",
       " 13                 2.475017    590.691656     13  \n",
       " 14                 5.931221    785.344786     14  \n",
       " 15                13.216303   1791.114391     15  \n",
       " 16                18.129860   2355.832388     16  \n",
       " 17                61.369036   2306.953060     17  \n",
       " 18                99.110616   2690.891319     18  \n",
       " 19               111.358371   3414.714929     19  \n",
       " 20               106.204330   5158.248659     20  \n",
       " 21               145.326378   5433.234505     21  \n",
       " 22               156.444549   5931.996613     22  \n",
       " 23               188.482419   6816.554633     23  \n",
       " 24               217.481382   6710.140746     24  \n",
       " 25               234.892009   7674.236645     25  \n",
       " 26               369.804050   7890.873833     26  \n",
       " 27               394.144041   8389.558203     27  \n",
       " 28               435.959553   7689.769773     28  \n",
       " 29               603.010901   8082.732778     29  \n",
       " 30               672.918101   8095.260971     30  \n",
       " 31               741.959987   9070.722034     31  \n",
       " 32               809.828824   8494.734719     32  \n",
       " 33               770.730106   7666.106783     33  \n",
       " 34               745.874608   8460.125913     34  \n",
       " 35               710.759766   9262.361137     35  \n",
       " 36              1064.043310   8521.001531     36  \n",
       " 37              1013.170957   7677.725987     37  \n",
       " 38               953.382024   8693.583586     38  \n",
       " 39               905.116415   7825.236892     39  \n",
       " 40               875.215681   7319.446550     40  \n",
       " 41               936.320875   7211.339586     41  \n",
       " 42               882.563756   7889.948695     42  \n",
       " 43               817.956140   8361.985870     43  \n",
       " 44               845.662130   9228.363341     44  \n",
       " 45               837.086483   8916.778609     45  \n",
       " 46               806.135918  10732.826886     46  \n",
       " 47               843.328721   9661.007404     47  \n",
       " 48               941.315522   9341.449782     48  \n",
       " 49               854.761522   9216.357816     49  \n",
       " 50               916.014270   8883.006445     50  \n",
       " 51               898.074844   9366.243878     51  \n",
       " 52               933.846541   9018.549837     52  \n",
       " 53              1197.969951   8118.498897     53  \n",
       " 54              1143.171416   7633.022125     54  \n",
       " 55              1128.653287   7195.136314     55  \n",
       " 56              1087.625277   9109.943087     56  \n",
       " 57              1055.180361   8414.084081     57  \n",
       " 58              1076.470083   7894.784741     58  \n",
       " 59               970.478638   7741.510695     59  )"
      ]
     },
     "execution_count": 12,
     "metadata": {},
     "output_type": "execute_result"
    }
   ],
   "source": [
    "\n",
    "\n",
    "ap_fiat=AgentPool_Basic(users_controller=users,transactions_controller=transactions,currency='$')\n",
    "\n",
    "\n",
    "te=TokenEconomy_Basic(holding_time=holding_time,supply=SUPPLY,token='tokenA',\n",
    "                      initial_price=INITIAL_PRICE,burn_token=True,\n",
    "                      price_function_parameters={'smoothing_param':0.1})\n",
    "te.add_agent_pools([ap_fiat])\n",
    "\n",
    "meta=TokenMetaSimulator(te)\n",
    "meta.execute(iterations=ITERATIONS,repetitions=100)\n",
    "reps=meta.get_data()\n",
    "\n",
    "meta.get_timeseries('tokenA_price',use_std=False)"
   ]
  },
  {
   "cell_type": "code",
   "execution_count": null,
   "id": "17c321aa",
   "metadata": {},
   "outputs": [],
   "source": []
  }
 ],
 "metadata": {
  "kernelspec": {
   "display_name": "Python 3 (ipykernel)",
   "language": "python",
   "name": "python3"
  },
  "language_info": {
   "codemirror_mode": {
    "name": "ipython",
    "version": 3
   },
   "file_extension": ".py",
   "mimetype": "text/x-python",
   "name": "python",
   "nbconvert_exporter": "python",
   "pygments_lexer": "ipython3",
   "version": "3.9.16"
  }
 },
 "nbformat": 4,
 "nbformat_minor": 5
}
